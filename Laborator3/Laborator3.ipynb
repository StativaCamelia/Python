{
 "cells": [
  {
   "cell_type": "markdown",
   "metadata": {},
   "source": [
    "## Write a function that receives as parameters two lists a and b and returns a set of sets containing: (a intersected with b, a reunited with b, a - b, b - a)\n"
   ]
  },
  {
   "cell_type": "code",
   "execution_count": 9,
   "metadata": {
    "scrolled": true
   },
   "outputs": [
    {
     "name": "stdout",
     "output_type": "stream",
     "text": [
      "{frozenset({1, 2, 3, 4, 5, 6, 10}), frozenset({2, 4, 6}), frozenset({1, 3}), frozenset({10, 5})}\n"
     ]
    }
   ],
   "source": [
    "def set_operations(list_1, list_2):\n",
    "    list_1, list_2 = set(list_1), set(list_2)\n",
    "    return {frozenset(list_1.union(list_2)), frozenset(list_1.intersection(list_2)), frozenset(list_1.difference(list_2)), frozenset(list_2.difference(list_1))}\n",
    "    \n",
    "    \n",
    "print(set_operations([1, 2, 3, 4, 6], [1, 5, 3, 10]))"
   ]
  },
  {
   "cell_type": "markdown",
   "metadata": {},
   "source": [
    "## Write a function that receives a string as a parameter and returns a dictionary in which the keys are the characters in the character string and the values are the number of occurrences of that character in the given text.\n",
    "\n",
    "Example: For string \"Ana has apples.\" given as a parameter the function will return the dictionary: {'A': 1, '': 2, 'n': 1, 'a': 2, 'r': 2, '.': 1}.\n"
   ]
  },
  {
   "cell_type": "code",
   "execution_count": 13,
   "metadata": {},
   "outputs": [
    {
     "name": "stdout",
     "output_type": "stream",
     "text": [
      "{'A': 1, 'n': 1, 'a': 3, 'h': 1, 's': 2, 'p': 2, 'l': 1, 'e': 1, '.': 1}\n"
     ]
    }
   ],
   "source": [
    "def occurences(text):\n",
    "    return {character: text.count(character) for character in text if character != ' '}\n",
    "\n",
    "print(occurences(\"Ana has apples.\"))"
   ]
  },
  {
   "cell_type": "markdown",
   "metadata": {},
   "source": [
    "## 3. Compare two dictionaries without using the operator \"==\" and return a list of differences as follows: (Attention, dictionaries must be recursively covered because they can contain other containers, such as dictionaries, lists, sets, etc.)"
   ]
  },
  {
   "cell_type": "code",
   "execution_count": 12,
   "metadata": {},
   "outputs": [
    {
     "name": "stdout",
     "output_type": "stream",
     "text": [
      "10\n"
     ]
    }
   ],
   "source": []
  },
  {
   "cell_type": "markdown",
   "metadata": {},
   "source": [
    "## 4. The build_xml_element function receives the following parameters: tag, content, and key-value elements given as name-parameters. Build and return a string that represents the corresponding XML element. Example: build_xml_element (\"a\", \"Hello there\", href =\" http://python.org \", _class =\" my-link \") returns  the string = \"<a href=\\\"http://python.org \\ \"_class = \\\" my-link \\ \"id = \\\" someid \\ \"> Hello there </a>\""
   ]
  },
  {
   "cell_type": "code",
   "execution_count": 20,
   "metadata": {},
   "outputs": [
    {
     "name": "stdout",
     "output_type": "stream",
     "text": [
      "<a href = 'http://python.org' _class = 'my-link' >Hello there<a>\n"
     ]
    }
   ],
   "source": [
    "def build_xml_element(tab, content, **params):\n",
    "    template = \"<{} \".format(tab)\n",
    "    for i in params.items():\n",
    "        template += \"{} = '{}' \".format(i[0], i[1].strip())\n",
    "    template += \">{}<{}>\".format(content, tab)\n",
    "    return template\n",
    "    \n",
    "print(build_xml_element(\"a\", \"Hello there\",  href =\" http://python.org \", _class =\" my-link \"))"
   ]
  },
  {
   "cell_type": "markdown",
   "metadata": {},
   "source": [
    "## 5. The validate_dict function that receives as a parameter a set of tuples that represent validation rules for a dictionary with string keys and values of the string type and a dictionary. A rule is defined as follows: (key, \"prefix\", \"middle\", \"suffix\"). A value is considered valid if it starts with \"prefix\", \"middle\" is inside the value (not at the beginning or end) and ends with \"suffix\". The function will return True if the given dictionary matches all the rules, False otherwise.\n",
    "\n",
    "Example: the rules  s={(\"key1\", \"\", \"inside\", \"\"), (\"key2\", \"start\", \"middle\", \"winter\")}  and d= {\"key1\": \"come inside, it's too cold out\", \"key3\": \"this is not valid\"} => False because although the rules are respected for \"key1\" and \"key2\" \"key3\" that does not appear in the rules.\n"
   ]
  },
  {
   "cell_type": "code",
   "execution_count": 7,
   "metadata": {},
   "outputs": [
    {
     "ename": "NameError",
     "evalue": "name 'substring' is not defined",
     "output_type": "error",
     "traceback": [
      "\u001b[1;31m---------------------------------------------------------------------------\u001b[0m",
      "\u001b[1;31mNameError\u001b[0m                                 Traceback (most recent call last)",
      "\u001b[1;32m<ipython-input-7-f2ed8230fda7>\u001b[0m in \u001b[0;36m<module>\u001b[1;34m\u001b[0m\n\u001b[0;32m      9\u001b[0m \u001b[1;33m\u001b[0m\u001b[0m\n\u001b[0;32m     10\u001b[0m \u001b[1;33m\u001b[0m\u001b[0m\n\u001b[1;32m---> 11\u001b[1;33m \u001b[0mvalidate_dict\u001b[0m\u001b[1;33m(\u001b[0m\u001b[1;33m{\u001b[0m\u001b[1;33m(\u001b[0m\u001b[1;34m\"key1\"\u001b[0m\u001b[1;33m,\u001b[0m \u001b[1;34m\"\"\u001b[0m\u001b[1;33m,\u001b[0m \u001b[1;34m\"inside\"\u001b[0m\u001b[1;33m,\u001b[0m \u001b[1;34m\"\"\u001b[0m\u001b[1;33m)\u001b[0m\u001b[1;33m,\u001b[0m \u001b[1;33m(\u001b[0m\u001b[1;34m\"key2\"\u001b[0m\u001b[1;33m,\u001b[0m \u001b[1;34m\"start\"\u001b[0m\u001b[1;33m,\u001b[0m \u001b[1;34m\"middle\"\u001b[0m\u001b[1;33m,\u001b[0m \u001b[1;34m\"winter\"\u001b[0m\u001b[1;33m)\u001b[0m\u001b[1;33m}\u001b[0m\u001b[1;33m,\u001b[0m \u001b[1;33m{\u001b[0m\u001b[1;34m\"key1\"\u001b[0m\u001b[1;33m:\u001b[0m \u001b[1;34m\"come inside, it's too cold out\"\u001b[0m\u001b[1;33m,\u001b[0m \u001b[1;34m\"key3\"\u001b[0m\u001b[1;33m:\u001b[0m \u001b[1;34m\"this is not valid\"\u001b[0m\u001b[1;33m}\u001b[0m \u001b[1;33m)\u001b[0m\u001b[1;33m\u001b[0m\u001b[1;33m\u001b[0m\u001b[0m\n\u001b[0m\u001b[0;32m     12\u001b[0m \u001b[1;33m\u001b[0m\u001b[0m\n",
      "\u001b[1;32m<ipython-input-7-f2ed8230fda7>\u001b[0m in \u001b[0;36mvalidate_dict\u001b[1;34m(rules, dictionary)\u001b[0m\n\u001b[0;32m      4\u001b[0m         \u001b[1;32mif\u001b[0m \u001b[0mk\u001b[0m \u001b[1;32mnot\u001b[0m \u001b[1;32min\u001b[0m \u001b[0mrules\u001b[0m\u001b[1;33m:\u001b[0m\u001b[1;33m\u001b[0m\u001b[1;33m\u001b[0m\u001b[0m\n\u001b[0;32m      5\u001b[0m             \u001b[1;32mreturn\u001b[0m \u001b[1;32mFalse\u001b[0m\u001b[1;33m\u001b[0m\u001b[1;33m\u001b[0m\u001b[0m\n\u001b[1;32m----> 6\u001b[1;33m         \u001b[1;32melif\u001b[0m \u001b[1;32mnot\u001b[0m \u001b[0mv\u001b[0m\u001b[1;33m.\u001b[0m\u001b[0mstartswith\u001b[0m\u001b[1;33m(\u001b[0m\u001b[0mrules\u001b[0m\u001b[1;33m[\u001b[0m\u001b[0mk\u001b[0m\u001b[1;33m]\u001b[0m\u001b[1;33m[\u001b[0m\u001b[1;36m0\u001b[0m\u001b[1;33m]\u001b[0m\u001b[1;33m)\u001b[0m \u001b[1;32mor\u001b[0m \u001b[1;32mnot\u001b[0m \u001b[0msubstring\u001b[0m \u001b[1;32min\u001b[0m \u001b[0mtext\u001b[0m\u001b[1;33m[\u001b[0m\u001b[1;36m1\u001b[0m\u001b[1;33m:\u001b[0m\u001b[1;33m-\u001b[0m\u001b[1;36m1\u001b[0m\u001b[1;33m]\u001b[0m \u001b[1;32mor\u001b[0m \u001b[1;32mnot\u001b[0m \u001b[0mv\u001b[0m\u001b[1;33m.\u001b[0m\u001b[0mendswith\u001b[0m\u001b[1;33m(\u001b[0m\u001b[0mrules\u001b[0m\u001b[1;33m[\u001b[0m\u001b[0mk\u001b[0m\u001b[1;33m]\u001b[0m\u001b[1;33m[\u001b[0m\u001b[1;36m2\u001b[0m\u001b[1;33m]\u001b[0m\u001b[1;33m)\u001b[0m\u001b[1;33m:\u001b[0m\u001b[1;33m\u001b[0m\u001b[1;33m\u001b[0m\u001b[0m\n\u001b[0m\u001b[0;32m      7\u001b[0m             \u001b[1;32mreturn\u001b[0m \u001b[1;32mFalse\u001b[0m\u001b[1;33m\u001b[0m\u001b[1;33m\u001b[0m\u001b[0m\n\u001b[0;32m      8\u001b[0m     \u001b[1;32mreturn\u001b[0m \u001b[1;32mTrue\u001b[0m\u001b[1;33m\u001b[0m\u001b[1;33m\u001b[0m\u001b[0m\n",
      "\u001b[1;31mNameError\u001b[0m: name 'substring' is not defined"
     ]
    }
   ],
   "source": [
    "def validate_dict(rules, dictionary):\n",
    "    rules = {i[0] : i[1:] for i in rules}\n",
    "    for k,v in dictionary.items():\n",
    "        if k not in rules:\n",
    "            return False\n",
    "        elif not v.startswith(rules[k][0]) or not substring in text[1:-1] or not v.endswith(rules[k][2]):\n",
    "            return False\n",
    "    return True\n",
    "        \n",
    "        \n",
    "validate_dict({(\"key1\", \"\", \"inside\", \"\"), (\"key2\", \"start\", \"middle\", \"winter\")}, {\"key1\": \"come inside, it's too cold out\", \"key3\": \"this is not valid\"} )\n",
    "    "
   ]
  },
  {
   "cell_type": "markdown",
   "metadata": {},
   "source": [
    "## 6. Write a function that receives as a parameter a set and returns a tuple (a, b), representing the number of unique elements in the set, and b representing the number of duplicate elements in the set."
   ]
  },
  {
   "cell_type": "code",
   "execution_count": 45,
   "metadata": {},
   "outputs": [
    {
     "name": "stdout",
     "output_type": "stream",
     "text": [
      "{1, 2, 'a', '1'}\n"
     ]
    },
    {
     "data": {
      "text/plain": [
       "(4, 0)"
      ]
     },
     "execution_count": 45,
     "metadata": {},
     "output_type": "execute_result"
    }
   ],
   "source": [
    "def unique_and_duplicates(set_verify):\n",
    "    return (len(set_verify), 0)\n",
    "unique_and_duplicates({1, 2, '1', 1, 'a'})"
   ]
  },
  {
   "cell_type": "markdown",
   "metadata": {},
   "source": [
    "7. Write a function that receives a variable number of sets and returns a dictionary with the following operations from all sets two by two: reunion, intersection, a-b, b-a. The key will have the following form: \"a op b\", where a and b are two sets, and op is the applied operator: |, &, -. \n",
    "\n",
    "Ex: {1,2}, {2, 3} =>\n",
    "\n",
    "{\n",
    "\n",
    "    \"{1, 2} | {2, 3}\": 3,\n",
    "\n",
    "    \"{1, 2} & {2, 3}\": 1,\n",
    "\n",
    "    \"{1, 2} - {2, 3}\": 1,\n",
    "\n",
    "    ...\n",
    "\n",
    "}    "
   ]
  },
  {
   "cell_type": "code",
   "execution_count": 70,
   "metadata": {},
   "outputs": [
    {
     "name": "stdout",
     "output_type": "stream",
     "text": [
      "{'{1, 2} | {2, 3}': {1, 2, 3}, '{1, 2} & {2, 3}': {2}, '{1, 2} - {2, 3}': {1}, '{2, 3} - {1, 2}': {3}, '{1, 2} | {1, 3, 4}': {1, 2, 3, 4}, '{1, 2} & {1, 3, 4}': {1}, '{1, 2} - {1, 3, 4}': {2}, '{1, 3, 4} - {1, 2}': {3, 4}, '{2, 3} | {1, 3, 4}': {1, 2, 3, 4}, '{2, 3} & {1, 3, 4}': {3}, '{2, 3} - {1, 3, 4}': {2}, '{1, 3, 4} - {2, 3}': {1, 4}}\n"
     ]
    }
   ],
   "source": [
    "def operations_on_set(*sets):\n",
    "    dictionary = {}\n",
    "    for i in range(len(sets) - 1):\n",
    "        for j in range(i+1, len(sets)):\n",
    "            dictionary[\"{} | {}\".format(sets[i], sets[j])] = sets[i] | sets[j]\n",
    "            dictionary[\"{} & {}\".format(sets[i], sets[j])] = sets[i] & sets[j]\n",
    "            dictionary[\"{} - {}\".format(sets[i], sets[j])] = sets[i] - sets[j]\n",
    "            dictionary[\"{} - {}\".format(sets[j], sets[i])] = sets[j] - sets[i]\n",
    "    return dictionary\n",
    "\n",
    "\n",
    "print(operations_on_set({1,2}, {2, 3}, {1, 3, 4}))\n"
   ]
  },
  {
   "cell_type": "markdown",
   "metadata": {},
   "source": [
    "## 8. Write a function that receives a single dict parameter named mapping. This dictionary always contains a string key \"start\". Starting with the value of this key you must obtain a list of objects by iterating over mapping in the following way: the value of the current key is the key for the next value, until you find a loop (a key that was visited before). The function must return the list of objects obtained as previously described.\n",
    "\n",
    "Ex: loop({'start': 'a', 'b': 'a', 'a': '6', '6': 'z', 'x': '2', 'z': '2', '2': '2', 'y': 'start'}) will return ['a', '6', 'z', '2']"
   ]
  },
  {
   "cell_type": "code",
   "execution_count": 1,
   "metadata": {},
   "outputs": [
    {
     "name": "stdout",
     "output_type": "stream",
     "text": [
      "['a', '6', 'z', '2']\n"
     ]
    }
   ],
   "source": [
    "def find_loop(dicti):\n",
    "    start = dicti['start']\n",
    "    visited = []\n",
    "    while start not in visited:\n",
    "        visited.append(start)\n",
    "        start = dicti[start]\n",
    "    return visited\n",
    "    \n",
    "print(find_loop({'start': 'a', 'b': 'a', 'a': '6', '6': 'z', 'x': '2', 'z': '2', '2': '2', 'y': 'start'}))"
   ]
  },
  {
   "cell_type": "markdown",
   "metadata": {},
   "source": [
    "## 9. Write a function that receives a variable number of positional arguments and a variable number of keyword arguments adn will return the number of positional arguments whose values can be found among keyword arguments values.\n",
    "\n",
    "Ex: my_function(1, 2, 3, 4, x=1, y=2, z=3, w=5) will return returna 3"
   ]
  },
  {
   "cell_type": "code",
   "execution_count": 2,
   "metadata": {
    "scrolled": true
   },
   "outputs": [
    {
     "name": "stdout",
     "output_type": "stream",
     "text": [
      "3\n"
     ]
    }
   ],
   "source": [
    "def find_in_keywords(*positionals, **keywords):\n",
    "    return len([1 for i in positionals if i in keywords.values()])\n",
    "print(find_in_keywords(1, 2, 3, 4, x=1, y=2, z=3, w=5))"
   ]
  },
  {
   "cell_type": "code",
   "execution_count": null,
   "metadata": {},
   "outputs": [],
   "source": []
  }
 ],
 "metadata": {
  "kernelspec": {
   "display_name": "Python 3",
   "language": "python",
   "name": "python3"
  },
  "language_info": {
   "codemirror_mode": {
    "name": "ipython",
    "version": 3
   },
   "file_extension": ".py",
   "mimetype": "text/x-python",
   "name": "python",
   "nbconvert_exporter": "python",
   "pygments_lexer": "ipython3",
   "version": "3.8.3"
  }
 },
 "nbformat": 4,
 "nbformat_minor": 4
}
