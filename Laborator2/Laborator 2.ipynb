{
 "cells": [
  {
   "cell_type": "markdown",
   "metadata": {},
   "source": [
    "## 1. Write a function to return a list of the first n numbers in the Fibonacci string."
   ]
  },
  {
   "cell_type": "code",
   "execution_count": 5,
   "metadata": {},
   "outputs": [
    {
     "name": "stdout",
     "output_type": "stream",
     "text": [
      "9\n",
      "34\n"
     ]
    }
   ],
   "source": [
    "def fibonacci(n):\n",
    "    if n == 0:\n",
    "        return 0\n",
    "    elif n == 1:\n",
    "        return 1\n",
    "    else:\n",
    "        return fibonacci(n-2) + fibonacci(n-1)\n",
    "\n",
    "try:\n",
    "    n = int(input())\n",
    "except:\n",
    "    print(\"Valoarea introdusa nu este un numar\")\n",
    "print(fibonacci(n)"
   ]
  },
  {
   "cell_type": "markdown",
   "metadata": {},
   "source": [
    "## 2.Write a function that receives a list of numbers and returns a list of the prime numbers found in it."
   ]
  },
  {
   "cell_type": "code",
   "execution_count": 1,
   "metadata": {},
   "outputs": [
    {
     "name": "stdout",
     "output_type": "stream",
     "text": [
      "1 0 13 18 78\n",
      "[13]\n"
     ]
    }
   ],
   "source": [
    "def prime_numbers():\n",
    "    return [i for i in number_list if (sum([1 for j in range(2, int(i**1/2) + 1) if i % j == 0]) == 0) and (i != 0 and i != 1)]\n",
    "\n",
    "number_list = [int(i) for i in input().strip().split() if i.isnumeric()]\n",
    "print(prime_numbers())"
   ]
  },
  {
   "cell_type": "markdown",
   "metadata": {},
   "source": [
    "## 3. Write a function that receives as parameters two lists a and b and returns: (a intersected with b, a reunited with b, a - b, b - a)"
   ]
  },
  {
   "cell_type": "code",
   "execution_count": null,
   "metadata": {},
   "outputs": [],
   "source": [
    "def intersection(list_a, list_b):\n",
    "    intersection_result = []\n",
    "    [intersection_result.append(a) for a in list_a if len([b for b in list_b if a == b]) != 0 and a not in intersection_result ]\n",
    "    return intersection_result\n",
    "\n",
    "\n",
    "def reunited():\n",
    "    reunited_result = []\n",
    "    [reunited_result.append(a) for a in list_a + list_b if a not in reunited_result]\n",
    "    return reunited_result\n",
    "\n",
    "def difference(first_list, second_list):\n",
    "    difference_result = []\n",
    "    [difference_result.append(a) for a in first_list if a not in intersection(first_list, second_list) and a not in difference_result]\n",
    "    return difference_result\n",
    "\n",
    "\n",
    "list_a = list(input().strip().split())\n",
    "list_b = list(input().strip().split())\n",
    "print(intersection(list_a, list_b))\n",
    "print(reunited())\n",
    "print(difference(list_a, list_b))\n",
    "print(difference(list_b, list_a))"
   ]
  },
  {
   "cell_type": "markdown",
   "metadata": {},
   "source": [
    "## 4. Write a function that receives as a parameters a list of musical notes (strings), a list of moves (integers) and a start position (integer). The function will return the song composed by going though the musical notes beginning with the start position and following the moves given as parameter.\n",
    "\tExample : compose([\"do\", \"re\", \"mi\", \"fa\", \"sol\"], [1, -3, 4, 2], 2) will return [\"mi\", \"fa\", \"do\", \"sol\", \"re\"] "
   ]
  },
  {
   "cell_type": "code",
   "execution_count": 3,
   "metadata": {},
   "outputs": [
    {
     "name": "stdout",
     "output_type": "stream",
     "text": [
      "do re mi fa sol\n",
      "1 -3 4 2\n",
      "2\n",
      "mi\n",
      "fa\n",
      "do\n",
      "sol\n",
      "re\n"
     ]
    }
   ],
   "source": [
    "def compose(start):\n",
    "    print(notes[start])\n",
    "    for i in moves:\n",
    "        start += i\n",
    "        print(notes[start%len(notes)])\n",
    "\n",
    "notes = input().strip().split()\n",
    "try:\n",
    "    moves = [int(i) for i in input().strip().split()]\n",
    "    start = int(input())\n",
    "    compose(start)\n",
    "except:\n",
    "    print(\"Not a number\")\n"
   ]
  },
  {
   "cell_type": "markdown",
   "metadata": {},
   "source": [
    "## 5. Write a function that receives as parameter a matrix and will return the matrix obtained by replacing all the elements under the main diagonal with 0 (zero)."
   ]
  },
  {
   "cell_type": "code",
   "execution_count": null,
   "metadata": {
    "scrolled": false
   },
   "outputs": [],
   "source": [
    "def main_diag_0():\n",
    "    return [[0 if i == j else matrix[i][j] for i in range(0, len(matrix))] for j in range(0, len(matrix[0]))]\n",
    "\n",
    "print(\"Enter number of rows:\")\n",
    "n = int(input())\n",
    "print(\"Enter number of columns:\")\n",
    "m = int(input())\n",
    "matrix = [[0 * n for i in range(n)] for j in range(m)]\n",
    "\n",
    "for i in range(n):\n",
    "    for j in range(m):\n",
    "        matrix[i][j] = int(input())\n",
    "print(main_diag_0())"
   ]
  },
  {
   "cell_type": "markdown",
   "metadata": {},
   "source": [
    "## 6. Write a function that receives as a parameter a variable number of lists and a whole number x. Return a list containing the items that appear exactly x times in the incoming lists. "
   ]
  },
  {
   "cell_type": "code",
   "execution_count": 17,
   "metadata": {
    "scrolled": false
   },
   "outputs": [
    {
     "name": "stdout",
     "output_type": "stream",
     "text": [
      "[1, 2, 3]\n"
     ]
    }
   ],
   "source": [
    "def items_x_times(x, *lines):\n",
    "    occurences = {i: sum([line.count(i) for line in lines]) for line in lines for i in line}\n",
    "    print([key for key, value in occurences.items() if value == x])\n",
    "\n",
    "def items_x_times_2(x, *lines):\n",
    "    concat_list = sum(lines, start = [])\n",
    "    result = []\n",
    "    for elem in filter(lambda i: concat_list.count(i) == x, concat_list):\n",
    "        if elem not in result:\n",
    "            result.append(elem)\n",
    "    print(result)\n",
    "items_x_times_2(2,[1,2,3], [2,3,4],[4,5,6], [4,1, \"test\"])\n"
   ]
  },
  {
   "cell_type": "markdown",
   "metadata": {},
   "source": [
    "## 7. Write a function that receives as parameter a list of numbers (integers) and will return a tuple with 2 elements. The first element of the tuple will be the number of palindrome numbers found in the list and the second element will be the greatest palindrome number."
   ]
  },
  {
   "cell_type": "code",
   "execution_count": null,
   "metadata": {
    "scrolled": false
   },
   "outputs": [],
   "source": [
    "def palindroms():\n",
    "    list_of_palindroms = [x for x in list_of_numbers if x == int(str(x)[::-1])]\n",
    "    return (len(list_of_palindroms), max(list_of_palindroms))\n",
    "\n",
    "list_of_numbers = [int(i) for i in input().strip().split() if i.isnumeric()]\n",
    "print(palindroms())"
   ]
  },
  {
   "cell_type": "markdown",
   "metadata": {},
   "source": [
    "## 8. Write a function that receives a number x, default value equal to 1, a list of strings, and a boolean flag set to True. For each string, generate a list containing the characters that have the ASCII divisible by x if the flag is set to True, otherwise it should contain characters that have the non-xvid ASCII code.\n",
    "\n",
    " Example: x = 2, [\"test\", \"hello\", \"lab002\"], flag = False will return ([\"e\", \"s\"], [\"e\" . Note: The function must return list of lists."
   ]
  },
  {
   "cell_type": "code",
   "execution_count": null,
   "metadata": {},
   "outputs": [],
   "source": [
    "def char_div_x(x, list_strings, flag):\n",
    "    if flag:\n",
    "        return [[a for a in ind_string if ord(a)%x == 0] for ind_string in list_strings]\n",
    "    else:\n",
    "        return [[a for a in ind_string if ord(a)%x != 0] for ind_string in list_strings]\n",
    "\n",
    "try:\n",
    "    x = int(input())\n",
    "except:\n",
    "    print(\"Not a number\")\n",
    "list_strings = input().split()\n",
    "flag = input()\n",
    "if flag == 'True':\n",
    "    flag = True\n",
    "else:\n",
    "    flag = False\n",
    "print(char_div_x(x, list_strings, flag))"
   ]
  },
  {
   "cell_type": "markdown",
   "metadata": {},
   "source": [
    "## 9. Write a function that receives as paramer a matrix which represents the heights of the spectators in a stadium and will return a list of tuples (line, column) each one representing a seat of a spectator which can't see the game. A spectator can't see the game if there is at least one taller spectator standing in front of him. All the seats are occupied. All the seats are at the same level. Row and column indexing starts from 0, beginning with the closest row from the field.\n",
    "\n",
    "\tExample:\n",
    "\n",
    " ## FIELD\n",
    "\n",
    "[[1, 2, 3, 2, 1, 1],\n",
    "\n",
    "[2, 4, 4, 3, 7, 2],\n",
    "\n",
    "[5, 5, 2, 5, 6, 4],\n",
    "\n",
    "[6, 6, 7, 6, 7, 5]] \n",
    "\n",
    "Will return : [(2, 2), (3, 4), (2, 4)] "
   ]
  },
  {
   "cell_type": "code",
   "execution_count": null,
   "metadata": {},
   "outputs": [],
   "source": [
    "def cannot_see():\n",
    "    print([[(i, j) for i, element in enumerate(matrix[1:],1) if len([1 for k in range(i) if matrix[k][j] > matrix[i][j]]) != 0] for j,line in enumerate(matrix[0:], 1)])\n",
    "matrix = [[1, 2, 3, 2, 1, 1], [2, 4, 4, 3, 7, 2], [5, 5, 2, 5, 6, 4], [6, 6, 7, 6, 7, 5]]\n",
    "cannot_see()"
   ]
  },
  {
   "cell_type": "markdown",
   "metadata": {},
   "source": [
    "## 10. Write a function that receives a variable number of lists and returns a list of tuples as follows: the first tuple contains the first items in the lists, the second element contains the items on the position 2 in the lists, etc. Ex: for lists [1,2,3], [5,6,7], [\"a\", \"b\", \"c\"] return: [(1.5, \"a \") ,(5, 6, \"b\"), (3,7, \"c\")]. "
   ]
  },
  {
   "cell_type": "code",
   "execution_count": null,
   "metadata": {
    "scrolled": true
   },
   "outputs": [],
   "source": [
    "def elements_of_list(*lists):\n",
    "    print([[line[i] for line in lists if i < len(line)] for i in range(max([len(list) for list in lists]))])\n",
    "elements_of_list([1,2,3], [\"a\", \"b\", \"c\"], [5, 6, 7, 8, 9])"
   ]
  },
  {
   "cell_type": "markdown",
   "metadata": {},
   "source": [
    "## 11. Write a function that will order a list of string tuples based on the 3rd character of the 2nd element in the tuple. Example: ('abc', 'bcd'), ('abc', 'zza')] ==> [('abc', 'zza'), ('abc', 'bcd')]"
   ]
  },
  {
   "cell_type": "code",
   "execution_count": 6,
   "metadata": {},
   "outputs": [
    {
     "name": "stdout",
     "output_type": "stream",
     "text": [
      "[('abc', 'zza'), ('abc', 'bcd')]\n"
     ]
    }
   ],
   "source": [
    "def special_sort(list_of_tuples):\n",
    "    list_of_tuples.sort(key = lambda tuples: tuples[1][2])\n",
    "    print(list_of_tuples)\n",
    "\n",
    "list_of_tuples = [('abc', 'bcd'), ('abc', 'zza')]\n",
    "special_sort(list_of_tuples)"
   ]
  },
  {
   "cell_type": "markdown",
   "metadata": {},
   "source": [
    "## 12. Write a function that will receive a list of words  as parameter and will return a list of lists of words, grouped by rhyme. Two words rhyme if both of them end with the same 2 letters.\n",
    "\n",
    "\tExample:\n",
    "\n",
    "         group_by_rhyme(['ana', 'banana', 'carte', 'arme', 'parte']) will return [['ana', 'banana'], ['carte', 'parte'], ['arme']] "
   ]
  },
  {
   "cell_type": "code",
   "execution_count": 36,
   "metadata": {
    "scrolled": true
   },
   "outputs": [
    {
     "name": "stdout",
     "output_type": "stream",
     "text": [
      "{'na': ['ana', 'banana', 'cana'], 'te': ['carte', 'parte'], 'me': ['arme']}\n"
     ]
    }
   ],
   "source": [
    "def group_by_line(list_of_words):\n",
    "    end_sylabes = {}\n",
    "    end_sylabes = {word[-2:] : [] for word in list_of_words if word[-2:] not in end_sylabes}\n",
    "    for word in list_of_words:\n",
    "        end_sylabes.get(word[-2:]).append(word)\n",
    "    print(end_sylabes)\n",
    "list_of_words = ['ana', 'banana', 'carte', 'arme', 'parte', 'cana']\n",
    "group_by_line(list_of_words)"
   ]
  },
  {
   "cell_type": "code",
   "execution_count": null,
   "metadata": {},
   "outputs": [],
   "source": []
  }
 ],
 "metadata": {
  "kernelspec": {
   "display_name": "Python 3",
   "language": "python",
   "name": "python3"
  },
  "language_info": {
   "codemirror_mode": {
    "name": "ipython",
    "version": 3
   },
   "file_extension": ".py",
   "mimetype": "text/x-python",
   "name": "python",
   "nbconvert_exporter": "python",
   "pygments_lexer": "ipython3",
   "version": "3.8.3"
  }
 },
 "nbformat": 4,
 "nbformat_minor": 4
}
